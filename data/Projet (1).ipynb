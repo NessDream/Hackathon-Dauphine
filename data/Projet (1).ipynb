{
 "cells": [
  {
   "cell_type": "code",
   "execution_count": 1,
   "metadata": {},
   "outputs": [],
   "source": [
    "import pandas as pd\n",
    "import matplotlib.pyplot as plt\n",
    "import numpy as np\n",
    "import seaborn as sns \n",
    "from sklearn.model_selection import train_test_split, GridSearchCV\n",
    "from sklearn import preprocessing, tree, metrics\n",
    "from sklearn.ensemble import RandomForestClassifier\n",
    "import lightgbm as lgb\n",
    "from sklearn.metrics import roc_auc_score"
   ]
  },
  {
   "cell_type": "code",
   "execution_count": 2,
   "metadata": {},
   "outputs": [],
   "source": [
    "data_X = pd.read_csv('ref_train_x.csv')\n",
    "data_Y = pd.read_csv('ref_train_y.csv', header = None, names = ['Y'])\n",
    "data = pd.concat([data_X, data_Y], axis = 1)\n",
    "X_test = pd.read_csv('ref_test_x.csv')"
   ]
  },
  {
   "cell_type": "code",
   "execution_count": 3,
   "metadata": {},
   "outputs": [],
   "source": [
    "from sklearn.impute import KNNImputer\n",
    "def fill_na(df, knn=5):\n",
    "    df_num = df[list(df.describe())]\n",
    "    \n",
    "    columns_full = list(df)\n",
    "    columns_numerical = list(df_num)\n",
    "    columns_categorical = [x for x in columns_full if x not in columns_numerical]\n",
    "    df_categorical = df[columns_categorical]\n",
    "\n",
    "    imputer = KNNImputer(n_neighbors=5)\n",
    "    df_num_treated = imputer.fit_transform(df_num)\n",
    "    df_num_treated = pd.DataFrame(df_num_treated, columns = columns_numerical)\n",
    "    \n",
    "    \n",
    "    df_full_treated = pd.concat([df_num_treated, df_categorical], axis=1)[columns_full]\n",
    "    return(df_full_treated)"
   ]
  },
  {
   "cell_type": "code",
   "execution_count": 4,
   "metadata": {},
   "outputs": [],
   "source": [
    "data = data.drop('raw_id', axis = 1)\n",
    "X_test = X_test.drop('raw_id', axis = 1)"
   ]
  },
  {
   "cell_type": "code",
   "execution_count": 5,
   "metadata": {},
   "outputs": [],
   "source": [
    "le = preprocessing.LabelEncoder()\n",
    "le_exchange = le.fit_transform(data['exchange'])\n",
    "data['exchange'] = le_exchange\n",
    "\n",
    "le_bis = preprocessing.LabelEncoder()\n",
    "le_exchange_bis = le_bis.fit_transform(X_test['exchange'])\n",
    "X_test['exchange'] = le_exchange_bis"
   ]
  },
  {
   "cell_type": "code",
   "execution_count": 6,
   "metadata": {},
   "outputs": [
    {
     "name": "stdout",
     "output_type": "stream",
     "text": [
      "<class 'pandas.core.frame.DataFrame'>\n",
      "RangeIndex: 15249 entries, 0 to 15248\n",
      "Data columns (total 23 columns):\n",
      "sector                    15249 non-null int64\n",
      "earnings_implied_obs      15229 non-null float64\n",
      "delta_vol_1w              15239 non-null float64\n",
      "delta_vol_1y              15021 non-null float64\n",
      "return_1w                 15248 non-null float64\n",
      "return_1m                 15248 non-null float64\n",
      "return_1y                 15248 non-null float64\n",
      "implied_vol_3m            15244 non-null float64\n",
      "realised_vol_1w           15246 non-null float64\n",
      "realised_vol_1m           15246 non-null float64\n",
      "realised_vol_1y           15247 non-null float64\n",
      "ratio_put_call            15154 non-null float64\n",
      "publication_date_funda    15234 non-null float64\n",
      "exchange                  15249 non-null int32\n",
      "net_income                15232 non-null float64\n",
      "shareholders_equity       15228 non-null float64\n",
      "net_debt                  15229 non-null float64\n",
      "ebitda                    13380 non-null float64\n",
      "ebit                      13384 non-null float64\n",
      "sales                     15231 non-null float64\n",
      "cash_flow                 15223 non-null float64\n",
      "payout_ratio              15155 non-null float64\n",
      "Y                         15249 non-null int64\n",
      "dtypes: float64(20), int32(1), int64(2)\n",
      "memory usage: 2.6 MB\n"
     ]
    }
   ],
   "source": [
    "data.info()"
   ]
  },
  {
   "cell_type": "code",
   "execution_count": 7,
   "metadata": {},
   "outputs": [
    {
     "name": "stdout",
     "output_type": "stream",
     "text": [
      "<class 'pandas.core.frame.DataFrame'>\n",
      "RangeIndex: 4191 entries, 0 to 4190\n",
      "Data columns (total 22 columns):\n",
      "sector                    4191 non-null int64\n",
      "earnings_implied_obs      4189 non-null float64\n",
      "delta_vol_1w              4191 non-null float64\n",
      "delta_vol_1y              4130 non-null float64\n",
      "return_1w                 4191 non-null float64\n",
      "return_1m                 4191 non-null float64\n",
      "return_1y                 4191 non-null float64\n",
      "implied_vol_3m            4191 non-null float64\n",
      "realised_vol_1w           4191 non-null float64\n",
      "realised_vol_1m           4191 non-null float64\n",
      "realised_vol_1y           4191 non-null float64\n",
      "ratio_put_call            4173 non-null float64\n",
      "publication_date_funda    4179 non-null float64\n",
      "exchange                  4191 non-null int32\n",
      "net_income                4179 non-null float64\n",
      "shareholders_equity       4178 non-null float64\n",
      "net_debt                  4179 non-null float64\n",
      "ebitda                    3612 non-null float64\n",
      "ebit                      3612 non-null float64\n",
      "sales                     4179 non-null float64\n",
      "cash_flow                 4176 non-null float64\n",
      "payout_ratio              4167 non-null float64\n",
      "dtypes: float64(20), int32(1), int64(1)\n",
      "memory usage: 704.1 KB\n"
     ]
    }
   ],
   "source": [
    "X_test.info()"
   ]
  },
  {
   "cell_type": "code",
   "execution_count": 8,
   "metadata": {},
   "outputs": [],
   "source": [
    "X_train = data.drop('Y', axis = 1)\n",
    "y_train = data['Y']"
   ]
  },
  {
   "cell_type": "code",
   "execution_count": 9,
   "metadata": {},
   "outputs": [],
   "source": [
    "X_train = fill_na(X_train)\n",
    "X_test = fill_na(X_test)"
   ]
  },
  {
   "cell_type": "code",
   "execution_count": 10,
   "metadata": {},
   "outputs": [
    {
     "data": {
      "text/plain": [
       "DecisionTreeClassifier(ccp_alpha=0.0, class_weight=None, criterion='gini',\n",
       "                       max_depth=None, max_features=None, max_leaf_nodes=None,\n",
       "                       min_impurity_decrease=0.0, min_impurity_split=None,\n",
       "                       min_samples_leaf=1, min_samples_split=2,\n",
       "                       min_weight_fraction_leaf=0.0, presort='deprecated',\n",
       "                       random_state=42, splitter='best')"
      ]
     },
     "execution_count": 10,
     "metadata": {},
     "output_type": "execute_result"
    }
   ],
   "source": [
    "clf = tree.DecisionTreeClassifier(random_state = 42)\n",
    "clf.fit(X_train, y_train)"
   ]
  },
  {
   "cell_type": "code",
   "execution_count": 11,
   "metadata": {},
   "outputs": [
    {
     "data": {
      "text/plain": [
       "RandomForestClassifier(bootstrap=True, ccp_alpha=0.0, class_weight=None,\n",
       "                       criterion='gini', max_depth=None, max_features='auto',\n",
       "                       max_leaf_nodes=None, max_samples=None,\n",
       "                       min_impurity_decrease=0.0, min_impurity_split=None,\n",
       "                       min_samples_leaf=1, min_samples_split=2,\n",
       "                       min_weight_fraction_leaf=0.0, n_estimators=100,\n",
       "                       n_jobs=-1, oob_score=False, random_state=None, verbose=0,\n",
       "                       warm_start=False)"
      ]
     },
     "execution_count": 11,
     "metadata": {},
     "output_type": "execute_result"
    }
   ],
   "source": [
    "RF = RandomForestClassifier(n_jobs=-1, criterion= 'gini')\n",
    "RF.fit(X_train, y_train)"
   ]
  },
  {
   "cell_type": "code",
   "execution_count": 12,
   "metadata": {},
   "outputs": [
    {
     "data": {
      "text/plain": [
       "LGBMClassifier(boosting_type='gbdt', class_weight=None, colsample_bytree=1.0,\n",
       "               importance_type='split', learning_rate=0.1, max_depth=-1,\n",
       "               min_child_samples=20, min_child_weight=0.001, min_split_gain=0.0,\n",
       "               n_estimators=10000, n_jobs=-1, num_leaves=31, objective=None,\n",
       "               random_state=None, reg_alpha=0.0, reg_lambda=0.0, silent=True,\n",
       "               subsample=1.0, subsample_for_bin=200000, subsample_freq=0)"
      ]
     },
     "execution_count": 12,
     "metadata": {},
     "output_type": "execute_result"
    }
   ],
   "source": [
    "LGBM = lgb.LGBMClassifier(n_jobs=-1, n_estimators = 10000)\n",
    "LGBM.fit(X_train, y_train)"
   ]
  },
  {
   "cell_type": "code",
   "execution_count": 13,
   "metadata": {},
   "outputs": [],
   "source": [
    "y_predict_real_LGBM = LGBM.predict_proba(X_test)[:,1]\n",
    "y_predict_real_RF = RF.predict_proba(X_test)[:,1]\n",
    "y_predict_real_CLF = clf.predict_proba(X_test)[:,1]"
   ]
  },
  {
   "cell_type": "code",
   "execution_count": 14,
   "metadata": {},
   "outputs": [
    {
     "data": {
      "text/plain": [
       "array([7.97396569e-02, 2.45309541e-09, 2.22201776e-07, ...,\n",
       "       2.03976508e-03, 5.48714567e-03, 5.10276505e-06])"
      ]
     },
     "execution_count": 14,
     "metadata": {},
     "output_type": "execute_result"
    }
   ],
   "source": [
    "y_predict_real_LGBM"
   ]
  },
  {
   "cell_type": "code",
   "execution_count": 15,
   "metadata": {},
   "outputs": [],
   "source": [
    "np.savetxt(\"out_LGBM.csv\", y_predict_real_LGBM, delimiter = \".\")\n",
    "np.savetxt(\"out_RF.csv\", y_predict_real_RF, delimiter = \".\")\n",
    "np.savetxt(\"out_CLF.csv\", y_predict_real_CLF, delimiter = \".\")"
   ]
  },
  {
   "cell_type": "code",
   "execution_count": 43,
   "metadata": {},
   "outputs": [
    {
     "name": "stderr",
     "output_type": "stream",
     "text": [
      "C:\\Users\\axeld\\Anaconda3\\lib\\site-packages\\tensorboard\\compat\\tensorflow_stub\\dtypes.py:541: FutureWarning: Passing (type, 1) or '1type' as a synonym of type is deprecated; in a future version of numpy, it will be understood as (type, (1,)) / '(1,)type'.\n",
      "  _np_qint8 = np.dtype([(\"qint8\", np.int8, 1)])\n",
      "C:\\Users\\axeld\\Anaconda3\\lib\\site-packages\\tensorboard\\compat\\tensorflow_stub\\dtypes.py:542: FutureWarning: Passing (type, 1) or '1type' as a synonym of type is deprecated; in a future version of numpy, it will be understood as (type, (1,)) / '(1,)type'.\n",
      "  _np_quint8 = np.dtype([(\"quint8\", np.uint8, 1)])\n",
      "C:\\Users\\axeld\\Anaconda3\\lib\\site-packages\\tensorboard\\compat\\tensorflow_stub\\dtypes.py:543: FutureWarning: Passing (type, 1) or '1type' as a synonym of type is deprecated; in a future version of numpy, it will be understood as (type, (1,)) / '(1,)type'.\n",
      "  _np_qint16 = np.dtype([(\"qint16\", np.int16, 1)])\n",
      "C:\\Users\\axeld\\Anaconda3\\lib\\site-packages\\tensorboard\\compat\\tensorflow_stub\\dtypes.py:544: FutureWarning: Passing (type, 1) or '1type' as a synonym of type is deprecated; in a future version of numpy, it will be understood as (type, (1,)) / '(1,)type'.\n",
      "  _np_quint16 = np.dtype([(\"quint16\", np.uint16, 1)])\n",
      "C:\\Users\\axeld\\Anaconda3\\lib\\site-packages\\tensorboard\\compat\\tensorflow_stub\\dtypes.py:545: FutureWarning: Passing (type, 1) or '1type' as a synonym of type is deprecated; in a future version of numpy, it will be understood as (type, (1,)) / '(1,)type'.\n",
      "  _np_qint32 = np.dtype([(\"qint32\", np.int32, 1)])\n",
      "C:\\Users\\axeld\\Anaconda3\\lib\\site-packages\\tensorboard\\compat\\tensorflow_stub\\dtypes.py:550: FutureWarning: Passing (type, 1) or '1type' as a synonym of type is deprecated; in a future version of numpy, it will be understood as (type, (1,)) / '(1,)type'.\n",
      "  np_resource = np.dtype([(\"resource\", np.ubyte, 1)])\n"
     ]
    }
   ],
   "source": [
    "import xgboost\n",
    "from imblearn.over_sampling import SMOTE"
   ]
  },
  {
   "cell_type": "code",
   "execution_count": 44,
   "metadata": {},
   "outputs": [],
   "source": [
    "s =  SMOTE()\n",
    "X_train, y_train = s.fit_resample(X_train, y_train)"
   ]
  },
  {
   "cell_type": "code",
   "execution_count": 45,
   "metadata": {},
   "outputs": [
    {
     "name": "stderr",
     "output_type": "stream",
     "text": [
      "C:\\Users\\axeld\\Anaconda3\\lib\\site-packages\\xgboost\\core.py:587: FutureWarning: Series.base is deprecated and will be removed in a future version\n",
      "  if getattr(data, 'base', None) is not None and \\\n"
     ]
    }
   ],
   "source": [
    "xgb = xgboost.XGBRegressor(n_estimator = 200, eval_metric=\"auc\", silent = True)\n",
    "xgb.fit(X_train, y_train)\n",
    "y_pred = xgb.predict(X_test)"
   ]
  },
  {
   "cell_type": "code",
   "execution_count": 46,
   "metadata": {},
   "outputs": [],
   "source": [
    "np.savetxt(\"out_xgb.csv\", y_pred, delimiter = \".\")"
   ]
  },
  {
   "cell_type": "code",
   "execution_count": null,
   "metadata": {},
   "outputs": [],
   "source": []
  }
 ],
 "metadata": {
  "kernelspec": {
   "display_name": "Python 3",
   "language": "python",
   "name": "python3"
  },
  "language_info": {
   "codemirror_mode": {
    "name": "ipython",
    "version": 3
   },
   "file_extension": ".py",
   "mimetype": "text/x-python",
   "name": "python",
   "nbconvert_exporter": "python",
   "pygments_lexer": "ipython3",
   "version": "3.6.9"
  }
 },
 "nbformat": 4,
 "nbformat_minor": 2
}
